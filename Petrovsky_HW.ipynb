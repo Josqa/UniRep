{
 "cells": [
  {
   "cell_type": "code",
   "execution_count": 1,
   "metadata": {},
   "outputs": [],
   "source": [
    "import sqlite3\n",
    "import numpy as np\n",
    "import pandas as pd"
   ]
  },
  {
   "cell_type": "markdown",
   "metadata": {},
   "source": [
    " "
   ]
  },
  {
   "cell_type": "markdown",
   "metadata": {},
   "source": [
    "Переведем данные из экселевского в массив NumPy.\n",
    "Я переименовал названия столбцов, для более удобной работы.\n",
    "И создал отдельный файл, в который коротеньким скриптом на VBA добавил только \"плохие\" кредиты."
   ]
  },
  {
   "cell_type": "markdown",
   "metadata": {},
   "source": [
    "  "
   ]
  },
  {
   "cell_type": "code",
   "execution_count": 2,
   "metadata": {
    "scrolled": false
   },
   "outputs": [
    {
     "data": {
      "text/html": [
       "<div>\n",
       "<style scoped>\n",
       "    .dataframe tbody tr th:only-of-type {\n",
       "        vertical-align: middle;\n",
       "    }\n",
       "\n",
       "    .dataframe tbody tr th {\n",
       "        vertical-align: top;\n",
       "    }\n",
       "\n",
       "    .dataframe thead th {\n",
       "        text-align: right;\n",
       "    }\n",
       "</style>\n",
       "<table border=\"1\" class=\"dataframe\">\n",
       "  <thead>\n",
       "    <tr style=\"text-align: right;\">\n",
       "      <th></th>\n",
       "      <th>id</th>\n",
       "      <th>type</th>\n",
       "      <th>cr1</th>\n",
       "      <th>cr2</th>\n",
       "      <th>cr3</th>\n",
       "      <th>cl1</th>\n",
       "      <th>cl2</th>\n",
       "      <th>cl3</th>\n",
       "      <th>cl4</th>\n",
       "      <th>cl5</th>\n",
       "      <th>cl6</th>\n",
       "      <th>cl7</th>\n",
       "      <th>flag</th>\n",
       "    </tr>\n",
       "  </thead>\n",
       "  <tbody>\n",
       "    <tr>\n",
       "      <th>0</th>\n",
       "      <td>1</td>\n",
       "      <td>2</td>\n",
       "      <td>10</td>\n",
       "      <td>5</td>\n",
       "      <td>5</td>\n",
       "      <td>1</td>\n",
       "      <td>2</td>\n",
       "      <td>0</td>\n",
       "      <td>7</td>\n",
       "      <td>1</td>\n",
       "      <td>12</td>\n",
       "      <td>16</td>\n",
       "      <td>0</td>\n",
       "    </tr>\n",
       "    <tr>\n",
       "      <th>1</th>\n",
       "      <td>2</td>\n",
       "      <td>7</td>\n",
       "      <td>3</td>\n",
       "      <td>1</td>\n",
       "      <td>6</td>\n",
       "      <td>2</td>\n",
       "      <td>3</td>\n",
       "      <td>1</td>\n",
       "      <td>7</td>\n",
       "      <td>4</td>\n",
       "      <td>10</td>\n",
       "      <td>15</td>\n",
       "      <td>0</td>\n",
       "    </tr>\n",
       "    <tr>\n",
       "      <th>2</th>\n",
       "      <td>3</td>\n",
       "      <td>7</td>\n",
       "      <td>10</td>\n",
       "      <td>1</td>\n",
       "      <td>6</td>\n",
       "      <td>2</td>\n",
       "      <td>4</td>\n",
       "      <td>1</td>\n",
       "      <td>7</td>\n",
       "      <td>4</td>\n",
       "      <td>11</td>\n",
       "      <td>20</td>\n",
       "      <td>0</td>\n",
       "    </tr>\n",
       "    <tr>\n",
       "      <th>3</th>\n",
       "      <td>4</td>\n",
       "      <td>7</td>\n",
       "      <td>4</td>\n",
       "      <td>1</td>\n",
       "      <td>10</td>\n",
       "      <td>1</td>\n",
       "      <td>7</td>\n",
       "      <td>1</td>\n",
       "      <td>7</td>\n",
       "      <td>4</td>\n",
       "      <td>8</td>\n",
       "      <td>19</td>\n",
       "      <td>0</td>\n",
       "    </tr>\n",
       "    <tr>\n",
       "      <th>4</th>\n",
       "      <td>5</td>\n",
       "      <td>7</td>\n",
       "      <td>6</td>\n",
       "      <td>1</td>\n",
       "      <td>10</td>\n",
       "      <td>2</td>\n",
       "      <td>6</td>\n",
       "      <td>1</td>\n",
       "      <td>7</td>\n",
       "      <td>4</td>\n",
       "      <td>8</td>\n",
       "      <td>3</td>\n",
       "      <td>0</td>\n",
       "    </tr>\n",
       "  </tbody>\n",
       "</table>\n",
       "</div>"
      ],
      "text/plain": [
       "   id  type  cr1  cr2  cr3  cl1  cl2  cl3  cl4  cl5  cl6  cl7  flag\n",
       "0   1     2   10    5    5    1    2    0    7    1   12   16     0\n",
       "1   2     7    3    1    6    2    3    1    7    4   10   15     0\n",
       "2   3     7   10    1    6    2    4    1    7    4   11   20     0\n",
       "3   4     7    4    1   10    1    7    1    7    4    8   19     0\n",
       "4   5     7    6    1   10    2    6    1    7    4    8    3     0"
      ]
     },
     "execution_count": 2,
     "metadata": {},
     "output_type": "execute_result"
    }
   ],
   "source": [
    "df_main = pd.read_excel(\"data.xlsx\")\n",
    "df_main.head()"
   ]
  },
  {
   "cell_type": "code",
   "execution_count": 3,
   "metadata": {},
   "outputs": [
    {
     "data": {
      "text/plain": [
       "(74405, 13)"
      ]
     },
     "execution_count": 3,
     "metadata": {},
     "output_type": "execute_result"
    }
   ],
   "source": [
    "arr_main = df_main.values\n",
    "arr_main.shape"
   ]
  },
  {
   "cell_type": "code",
   "execution_count": 4,
   "metadata": {},
   "outputs": [
    {
     "data": {
      "text/html": [
       "<div>\n",
       "<style scoped>\n",
       "    .dataframe tbody tr th:only-of-type {\n",
       "        vertical-align: middle;\n",
       "    }\n",
       "\n",
       "    .dataframe tbody tr th {\n",
       "        vertical-align: top;\n",
       "    }\n",
       "\n",
       "    .dataframe thead th {\n",
       "        text-align: right;\n",
       "    }\n",
       "</style>\n",
       "<table border=\"1\" class=\"dataframe\">\n",
       "  <thead>\n",
       "    <tr style=\"text-align: right;\">\n",
       "      <th></th>\n",
       "      <th>id</th>\n",
       "      <th>type</th>\n",
       "      <th>cr1</th>\n",
       "      <th>cr2</th>\n",
       "      <th>cr3</th>\n",
       "      <th>cl1</th>\n",
       "      <th>cl2</th>\n",
       "      <th>cl3</th>\n",
       "      <th>cl4</th>\n",
       "      <th>cl5</th>\n",
       "      <th>cl6</th>\n",
       "      <th>cl7</th>\n",
       "      <th>flag</th>\n",
       "    </tr>\n",
       "  </thead>\n",
       "  <tbody>\n",
       "    <tr>\n",
       "      <th>0</th>\n",
       "      <td>535</td>\n",
       "      <td>7</td>\n",
       "      <td>5</td>\n",
       "      <td>4</td>\n",
       "      <td>10</td>\n",
       "      <td>2</td>\n",
       "      <td>7</td>\n",
       "      <td>0</td>\n",
       "      <td>7</td>\n",
       "      <td>1</td>\n",
       "      <td>14</td>\n",
       "      <td>1</td>\n",
       "      <td>1</td>\n",
       "    </tr>\n",
       "    <tr>\n",
       "      <th>1</th>\n",
       "      <td>711</td>\n",
       "      <td>7</td>\n",
       "      <td>4</td>\n",
       "      <td>1</td>\n",
       "      <td>10</td>\n",
       "      <td>2</td>\n",
       "      <td>7</td>\n",
       "      <td>1</td>\n",
       "      <td>7</td>\n",
       "      <td>1</td>\n",
       "      <td>13</td>\n",
       "      <td>14</td>\n",
       "      <td>1</td>\n",
       "    </tr>\n",
       "    <tr>\n",
       "      <th>2</th>\n",
       "      <td>793</td>\n",
       "      <td>7</td>\n",
       "      <td>2</td>\n",
       "      <td>1</td>\n",
       "      <td>6</td>\n",
       "      <td>2</td>\n",
       "      <td>2</td>\n",
       "      <td>0</td>\n",
       "      <td>4</td>\n",
       "      <td>2</td>\n",
       "      <td>12</td>\n",
       "      <td>13</td>\n",
       "      <td>1</td>\n",
       "    </tr>\n",
       "    <tr>\n",
       "      <th>3</th>\n",
       "      <td>913</td>\n",
       "      <td>7</td>\n",
       "      <td>5</td>\n",
       "      <td>5</td>\n",
       "      <td>10</td>\n",
       "      <td>1</td>\n",
       "      <td>6</td>\n",
       "      <td>0</td>\n",
       "      <td>4</td>\n",
       "      <td>1</td>\n",
       "      <td>10</td>\n",
       "      <td>17</td>\n",
       "      <td>1</td>\n",
       "    </tr>\n",
       "    <tr>\n",
       "      <th>4</th>\n",
       "      <td>1036</td>\n",
       "      <td>7</td>\n",
       "      <td>5</td>\n",
       "      <td>5</td>\n",
       "      <td>10</td>\n",
       "      <td>1</td>\n",
       "      <td>3</td>\n",
       "      <td>0</td>\n",
       "      <td>4</td>\n",
       "      <td>1</td>\n",
       "      <td>9</td>\n",
       "      <td>14</td>\n",
       "      <td>1</td>\n",
       "    </tr>\n",
       "  </tbody>\n",
       "</table>\n",
       "</div>"
      ],
      "text/plain": [
       "     id  type  cr1  cr2  cr3  cl1  cl2  cl3  cl4  cl5  cl6  cl7  flag\n",
       "0   535     7    5    4   10    2    7    0    7    1   14    1     1\n",
       "1   711     7    4    1   10    2    7    1    7    1   13   14     1\n",
       "2   793     7    2    1    6    2    2    0    4    2   12   13     1\n",
       "3   913     7    5    5   10    1    6    0    4    1   10   17     1\n",
       "4  1036     7    5    5   10    1    3    0    4    1    9   14     1"
      ]
     },
     "execution_count": 4,
     "metadata": {},
     "output_type": "execute_result"
    }
   ],
   "source": [
    "df_ans = pd.read_excel(\"dataAns.xlsx\")\n",
    "df_ans.head()"
   ]
  },
  {
   "cell_type": "code",
   "execution_count": 5,
   "metadata": {},
   "outputs": [
    {
     "data": {
      "text/plain": [
       "(1154, 13)"
      ]
     },
     "execution_count": 5,
     "metadata": {},
     "output_type": "execute_result"
    }
   ],
   "source": [
    "arr_ans = df_ans.values\n",
    "arr_ans.shape"
   ]
  },
  {
   "cell_type": "markdown",
   "metadata": {},
   "source": [
    "  "
   ]
  },
  {
   "cell_type": "markdown",
   "metadata": {},
   "source": [
    "Создадим таблицу с помощью sqlite3, чтобы можно было быстро проверять результат."
   ]
  },
  {
   "cell_type": "markdown",
   "metadata": {},
   "source": [
    "  "
   ]
  },
  {
   "cell_type": "code",
   "execution_count": 6,
   "metadata": {},
   "outputs": [],
   "source": [
    "def sql_query(SQL_QUERY, db):\n",
    "    connection = sqlite3.connect(db)\n",
    "    cursor = connection.cursor()\n",
    "    try:\n",
    "        if str.lower(SQL_QUERY)[:6] == 'select':\n",
    "            df = pd.read_sql_query(SQL_QUERY, connection)\n",
    "            return df\n",
    "\n",
    "        sql_command = SQL_QUERY\n",
    "        cursor.execute(sql_command)\n",
    "    finally:\n",
    "        connection.commit()\n",
    "        connection.close()"
   ]
  },
  {
   "cell_type": "code",
   "execution_count": 7,
   "metadata": {},
   "outputs": [],
   "source": [
    "sql_command = \"\"\" CREATE TABLE credit (\n",
    "id INTEGER PRIMARY KEY,\n",
    "type INTEGER, cr1 INTEGER, cr2 INTEGER, cr3 INTEGER,\n",
    "cl1 INTEGER, cl2 INTEGER, cl3 INTEGER, cl4 INTEGER,\n",
    "cl5 INTEGER, cl6 INTEGER, cl7 INTEGER, flag INTEGER\n",
    ");\n",
    "\"\"\"\n",
    "      \n",
    "sql_query(sql_command, \"data_.db\")"
   ]
  },
  {
   "cell_type": "code",
   "execution_count": 8,
   "metadata": {},
   "outputs": [],
   "source": [
    "for el in arr_main:\n",
    "    format_str = \"\"\"INSERT INTO credit (id, type, cr1, cr2, cr3, cl1, cl2, cl3, cl4, cl5, cl6, cl7, flag)\n",
    "    VALUES ({id_} , {type_}, {cr1}, {cr2}, {cr3}, {cl1}, {cl2}, {cl3}, {cl4}, {cl5}, {cl6}, {cl7}, {flag})\"\"\"\n",
    "    sql_com = format_str.format(id_=el[0],type_=el[1], cr1=el[2], cr2=el[3], cr3=el[4], cl1=el[5],\n",
    "                                cl2=el[6], cl3=el[7], cl4=el[8], cl5=el[9], cl6=el[10], cl7=el[11], flag=el[12])\n",
    "    sql_query(sql_com, \"data_.db\")"
   ]
  },
  {
   "cell_type": "markdown",
   "metadata": {},
   "source": [
    " "
   ]
  },
  {
   "cell_type": "markdown",
   "metadata": {},
   "source": [
    "Теперь создадим частотные словари для каждого признака изначального датасета и датасета с \"плохими\" кредитами и посмотрим, какие значения для каждого признака встречаются в \"плохих\" кредитах."
   ]
  },
  {
   "cell_type": "markdown",
   "metadata": {},
   "source": [
    " "
   ]
  },
  {
   "cell_type": "code",
   "execution_count": 9,
   "metadata": {
    "scrolled": true
   },
   "outputs": [
    {
     "name": "stdout",
     "output_type": "stream",
     "text": [
      "1 : 147 | 2 : 16893 | 3 : 3417 | 4 : 8101 | 5 : 2327 | 6 : 2021 | 7 : 40470 | 8 : 939 | 9 : 33 | 10 : 57 | "
     ]
    }
   ],
   "source": [
    "d_main = dict() #type\n",
    "for el in arr_main:\n",
    "    d_main[el[1]] = d_main.get(el[1], 0) + 1\n",
    "for k in sorted(d_main.keys()):\n",
    "    print (k, ':', d_main[k], end=' | ')"
   ]
  },
  {
   "cell_type": "code",
   "execution_count": 10,
   "metadata": {
    "scrolled": true
   },
   "outputs": [
    {
     "name": "stdout",
     "output_type": "stream",
     "text": [
      "2 : 80 | 5 : 13 | 7 : 1060 | 10 : 1 | "
     ]
    }
   ],
   "source": [
    "d_ans = dict() #type\n",
    "for el in arr_ans:\n",
    "    d_ans[el[1]] = d_ans.get(el[1], 0) + 1\n",
    "for k in sorted(d_ans.keys()):\n",
    "    print (k, ':', d_ans[k], end=' | ')"
   ]
  },
  {
   "cell_type": "code",
   "execution_count": 11,
   "metadata": {},
   "outputs": [
    {
     "name": "stdout",
     "output_type": "stream",
     "text": [
      "1 : 763 | 2 : 5222 | 3 : 7036 | 4 : 7827 | 5 : 6676 | 6 : 6400 | 7 : 6740 | 8 : 5606 | 9 : 3724 | 10 : 4940 | 11 : 3069 | 12 : 2403 | 13 : 1669 | 14 : 1402 | 15 : 1248 | 16 : 1153 | 17 : 942 | 18 : 701 | 19 : 1773 | 20 : 912 | 21 : 500 | 22 : 394 | 23 : 356 | 24 : 354 | 25 : 248 | 26 : 173 | 27 : 145 | 28 : 268 | 29 : 115 | 30 : 1646 | "
     ]
    }
   ],
   "source": [
    "d_main = dict() #cr1\n",
    "for el in arr_main:\n",
    "    d_main[el[2]] = d_main.get(el[2], 0) + 1\n",
    "for k in sorted(d_main.keys()):\n",
    "    print (k, ':', d_main[k], end=' | ')"
   ]
  },
  {
   "cell_type": "code",
   "execution_count": 12,
   "metadata": {},
   "outputs": [
    {
     "name": "stdout",
     "output_type": "stream",
     "text": [
      "2 : 6 | 3 : 5 | 4 : 16 | 5 : 118 | 6 : 198 | 7 : 254 | 8 : 210 | 9 : 130 | 10 : 114 | 11 : 50 | 12 : 21 | 13 : 12 | 14 : 5 | 15 : 5 | 16 : 2 | 17 : 2 | 18 : 2 | 19 : 1 | 20 : 1 | 28 : 1 | 30 : 1 | "
     ]
    }
   ],
   "source": [
    "d_ans = dict() #cr1\n",
    "for el in arr_ans:\n",
    "    d_ans[el[2]] = d_ans.get(el[2], 0) + 1\n",
    "for k in sorted(d_ans.keys()):\n",
    "    print (k, ':', d_ans[k], end=' | ')"
   ]
  },
  {
   "cell_type": "code",
   "execution_count": 13,
   "metadata": {},
   "outputs": [
    {
     "name": "stdout",
     "output_type": "stream",
     "text": [
      "1 : 44493 | 2 : 1496 | 3 : 9381 | 4 : 5946 | 5 : 4944 | 6 : 3265 | 7 : 1806 | 8 : 1096 | 9 : 621 | 10 : 392 | 11 : 639 | 12 : 161 | 13 : 70 | 14 : 27 | 15 : 44 | 16 : 8 | 17 : 10 | 18 : 3 | 19 : 3 | "
     ]
    }
   ],
   "source": [
    "d_main = dict() #cr2\n",
    "for el in arr_main:\n",
    "    d_main[el[3]] = d_main.get(el[3], 0) + 1\n",
    "for k in sorted(d_main.keys()):\n",
    "    print (k, ':', d_main[k], end=' | ')"
   ]
  },
  {
   "cell_type": "code",
   "execution_count": 14,
   "metadata": {},
   "outputs": [
    {
     "name": "stdout",
     "output_type": "stream",
     "text": [
      "1 : 415 | 2 : 3 | 3 : 151 | 4 : 253 | 5 : 224 | 6 : 82 | 7 : 23 | 8 : 3 | "
     ]
    }
   ],
   "source": [
    "d_ans = dict() #cr2\n",
    "for el in arr_ans:\n",
    "    d_ans[el[3]] = d_ans.get(el[3], 0) + 1\n",
    "for k in sorted(d_ans.keys()):\n",
    "    print (k, ':', d_ans[k], end=' | ')"
   ]
  },
  {
   "cell_type": "code",
   "execution_count": 15,
   "metadata": {},
   "outputs": [
    {
     "name": "stdout",
     "output_type": "stream",
     "text": [
      "1 : 10 | 2 : 79 | 3 : 172 | 4 : 4681 | 5 : 4623 | 6 : 13071 | 7 : 4192 | 8 : 103 | 9 : 4859 | 10 : 34417 | 11 : 1380 | 12 : 2377 | 13 : 21 | 14 : 2 | 15 : 2770 | 16 : 17 | 17 : 2 | 18 : 282 | 19 : 50 | 20 : 389 | 21 : 82 | 22 : 78 | 23 : 685 | 24 : 63 | "
     ]
    }
   ],
   "source": [
    "d_main = dict() #cr3\n",
    "for el in arr_main:\n",
    "    d_main[el[4]] = d_main.get(el[4], 0) + 1\n",
    "for k in sorted(d_main.keys()):\n",
    "    print (k, ':', d_main[k], end=' | ')"
   ]
  },
  {
   "cell_type": "code",
   "execution_count": 16,
   "metadata": {},
   "outputs": [
    {
     "name": "stdout",
     "output_type": "stream",
     "text": [
      "4 : 14 | 5 : 15 | 6 : 319 | 7 : 2 | 10 : 764 | 12 : 13 | 23 : 26 | 24 : 1 | "
     ]
    }
   ],
   "source": [
    "d_ans = dict() #cr3\n",
    "for el in arr_ans:\n",
    "    d_ans[el[4]] = d_ans.get(el[4], 0) + 1\n",
    "for k in sorted(d_ans.keys()):\n",
    "    print (k, ':', d_ans[k], end=' | ')"
   ]
  },
  {
   "cell_type": "code",
   "execution_count": 17,
   "metadata": {},
   "outputs": [
    {
     "name": "stdout",
     "output_type": "stream",
     "text": [
      "1 : 35076 | 2 : 39329 | "
     ]
    }
   ],
   "source": [
    "d_main = dict() #cl1\n",
    "for el in arr_main:\n",
    "    d_main[el[5]] = d_main.get(el[5], 0) + 1\n",
    "for k in sorted(d_main.keys()):\n",
    "    print (k, ':', d_main[k], end=' | ')"
   ]
  },
  {
   "cell_type": "code",
   "execution_count": 18,
   "metadata": {},
   "outputs": [
    {
     "name": "stdout",
     "output_type": "stream",
     "text": [
      "1 : 321 | 2 : 833 | "
     ]
    }
   ],
   "source": [
    "d_ans = dict() #cl1\n",
    "for el in arr_ans:\n",
    "    d_ans[el[5]] = d_ans.get(el[5], 0) + 1\n",
    "for k in sorted(d_ans.keys()):\n",
    "    print (k, ':', d_ans[k], end=' | ')"
   ]
  },
  {
   "cell_type": "code",
   "execution_count": 19,
   "metadata": {},
   "outputs": [
    {
     "name": "stdout",
     "output_type": "stream",
     "text": [
      "1 : 1889 | 2 : 12507 | 3 : 15657 | 4 : 12476 | 5 : 9219 | 6 : 6754 | 7 : 4839 | 8 : 4365 | 9 : 3152 | 10 : 1998 | 11 : 1265 | 12 : 229 | 13 : 54 | 14 : 1 | "
     ]
    }
   ],
   "source": [
    "d_main = dict() #cl2\n",
    "for el in arr_main:\n",
    "    d_main[el[6]] = d_main.get(el[6], 0) + 1\n",
    "for k in sorted(d_main.keys()):\n",
    "    print (k, ':', d_main[k], end=' | ')"
   ]
  },
  {
   "cell_type": "code",
   "execution_count": 20,
   "metadata": {},
   "outputs": [
    {
     "name": "stdout",
     "output_type": "stream",
     "text": [
      "2 : 69 | 3 : 340 | 4 : 314 | 5 : 157 | 6 : 117 | 7 : 82 | 8 : 64 | 9 : 11 | "
     ]
    }
   ],
   "source": [
    "d_ans = dict() #cl2\n",
    "for el in arr_ans:\n",
    "    d_ans[el[6]] = d_ans.get(el[6], 0) + 1\n",
    "for k in sorted(d_ans.keys()):\n",
    "    print (k, ':', d_ans[k], end=' | ')"
   ]
  },
  {
   "cell_type": "code",
   "execution_count": 21,
   "metadata": {},
   "outputs": [
    {
     "name": "stdout",
     "output_type": "stream",
     "text": [
      "0 : 52097 | 1 : 22308 | "
     ]
    }
   ],
   "source": [
    "d_main = dict() #cl3\n",
    "for el in arr_main:\n",
    "    d_main[el[7]] = d_main.get(el[7], 0) + 1\n",
    "for k in sorted(d_main.keys()):\n",
    "    print (k, ':', d_main[k], end=' | ')"
   ]
  },
  {
   "cell_type": "code",
   "execution_count": 22,
   "metadata": {},
   "outputs": [
    {
     "name": "stdout",
     "output_type": "stream",
     "text": [
      "0 : 776 | 1 : 378 | "
     ]
    }
   ],
   "source": [
    "d_ans = dict() #cl3\n",
    "for el in arr_ans:\n",
    "    d_ans[el[7]] = d_ans.get(el[7], 0) + 1\n",
    "for k in sorted(d_ans.keys()):\n",
    "    print (k, ':', d_ans[k], end=' | ')"
   ]
  },
  {
   "cell_type": "code",
   "execution_count": 23,
   "metadata": {},
   "outputs": [
    {
     "name": "stdout",
     "output_type": "stream",
     "text": [
      "1 : 3 | 2 : 5412 | 3 : 15 | 4 : 28447 | 5 : 3625 | 6 : 1005 | 7 : 35888 | 8 : 10 | "
     ]
    }
   ],
   "source": [
    "d_main = dict() #cl4\n",
    "for el in arr_main:\n",
    "    d_main[el[8]] = d_main.get(el[8], 0) + 1\n",
    "for k in sorted(d_main.keys()):\n",
    "    print (k, ':', d_main[k], end=' | ')"
   ]
  },
  {
   "cell_type": "code",
   "execution_count": 24,
   "metadata": {},
   "outputs": [
    {
     "name": "stdout",
     "output_type": "stream",
     "text": [
      "2 : 33 | 4 : 400 | 7 : 721 | "
     ]
    }
   ],
   "source": [
    "d_ans = dict() #cl4\n",
    "for el in arr_ans:\n",
    "    d_ans[el[8]] = d_ans.get(el[8], 0) + 1\n",
    "for k in sorted(d_ans.keys()):\n",
    "    print (k, ':', d_ans[k], end=' | ')"
   ]
  },
  {
   "cell_type": "code",
   "execution_count": 25,
   "metadata": {},
   "outputs": [
    {
     "name": "stdout",
     "output_type": "stream",
     "text": [
      "1 : 35828 | 2 : 7547 | 3 : 362 | 4 : 30536 | 5 : 132 | "
     ]
    }
   ],
   "source": [
    "d_main = dict() #cl5\n",
    "for el in arr_main:\n",
    "    d_main[el[9]] = d_main.get(el[9], 0) + 1\n",
    "for k in sorted(d_main.keys()):\n",
    "    print (k, ':', d_main[k], end=' | ')"
   ]
  },
  {
   "cell_type": "code",
   "execution_count": 26,
   "metadata": {},
   "outputs": [
    {
     "name": "stdout",
     "output_type": "stream",
     "text": [
      "1 : 774 | 2 : 29 | 3 : 3 | 4 : 348 | "
     ]
    }
   ],
   "source": [
    "d_ans = dict() #cl5\n",
    "for el in arr_ans:\n",
    "    d_ans[el[9]] = d_ans.get(el[9], 0) + 1\n",
    "for k in sorted(d_ans.keys()):\n",
    "    print (k, ':', d_ans[k], end=' | ')"
   ]
  },
  {
   "cell_type": "code",
   "execution_count": 27,
   "metadata": {},
   "outputs": [
    {
     "name": "stdout",
     "output_type": "stream",
     "text": [
      "1 : 5 | 2 : 113 | 3 : 143 | 4 : 1259 | 5 : 2055 | 6 : 3097 | 7 : 6922 | 8 : 7213 | 9 : 9697 | 10 : 8417 | 11 : 9817 | 12 : 3414 | 13 : 6285 | 14 : 2288 | 15 : 3561 | 16 : 1244 | 17 : 2476 | 18 : 664 | 19 : 1220 | 20 : 272 | 21 : 1804 | 22 : 84 | 23 : 170 | 24 : 59 | 25 : 517 | 26 : 38 | 27 : 159 | 28 : 43 | 29 : 96 | 30 : 18 | 31 : 1255 | "
     ]
    }
   ],
   "source": [
    "d_main = dict() #cl6\n",
    "for el in arr_main:\n",
    "    d_main[el[10]] = d_main.get(el[10], 0) + 1\n",
    "for k in sorted(d_main.keys()):\n",
    "    print (k, ':', d_main[k], end=' | ')"
   ]
  },
  {
   "cell_type": "code",
   "execution_count": 28,
   "metadata": {},
   "outputs": [
    {
     "name": "stdout",
     "output_type": "stream",
     "text": [
      "2 : 3 | 7 : 2 | 8 : 11 | 9 : 35 | 10 : 230 | 11 : 324 | 12 : 170 | 13 : 248 | 14 : 82 | 15 : 20 | 16 : 12 | 17 : 10 | 19 : 2 | 20 : 2 | 21 : 2 | 31 : 1 | "
     ]
    }
   ],
   "source": [
    "d_ans = dict() #cl6\n",
    "for el in arr_ans:\n",
    "    d_ans[el[10]] = d_ans.get(el[10], 0) + 1\n",
    "for k in sorted(d_ans.keys()):\n",
    "    print (k, ':', d_ans[k], end=' | ')"
   ]
  },
  {
   "cell_type": "code",
   "execution_count": 29,
   "metadata": {},
   "outputs": [
    {
     "name": "stdout",
     "output_type": "stream",
     "text": [
      "1 : 1744 | 2 : 1742 | 3 : 1744 | 4 : 1740 | 5 : 1743 | 6 : 1744 | 7 : 1744 | 8 : 1741 | 9 : 1740 | 10 : 1741 | 11 : 1744 | 12 : 1741 | 13 : 1743 | 14 : 1745 | 15 : 1742 | 16 : 1741 | 17 : 1740 | 18 : 1743 | 19 : 1743 | 20 : 1743 | 21 : 1738 | "
     ]
    }
   ],
   "source": [
    "d_main = dict() #cl7\n",
    "for el in arr_main:\n",
    "    d_main[el[11]] = d_main.get(el[1], 0) + 1\n",
    "for k in sorted(d_main.keys()):\n",
    "    print (k, ':', d_main[k], end=' | ')"
   ]
  },
  {
   "cell_type": "code",
   "execution_count": 30,
   "metadata": {},
   "outputs": [
    {
     "name": "stdout",
     "output_type": "stream",
     "text": [
      "1 : 235 | 2 : 22 | 3 : 16 | 4 : 28 | 5 : 22 | 6 : 33 | 7 : 37 | 8 : 16 | 9 : 43 | 10 : 41 | 11 : 61 | 12 : 58 | 13 : 73 | 14 : 82 | 15 : 84 | 16 : 89 | 17 : 83 | 18 : 80 | 19 : 43 | 20 : 8 | "
     ]
    }
   ],
   "source": [
    "d_ans = dict() #cl7\n",
    "for el in arr_ans:\n",
    "    d_ans[el[11]] = d_ans.get(el[11], 0) + 1\n",
    "for k in sorted(d_ans.keys()):\n",
    "    print (k, ':', d_ans[k], end=' | ')"
   ]
  },
  {
   "cell_type": "markdown",
   "metadata": {},
   "source": [
    " "
   ]
  },
  {
   "cell_type": "markdown",
   "metadata": {},
   "source": [
    "Например из признака \"Тип точки продаж\" мы возьмем только 2 и 7 тип, так для других типов количество \"плохих\" кредитов либо равно 0, либо очень мало. Признаки \"Клиент 1\" и \"Клиент 3\" вообще не нужно рассматривать, так как они биномиальные и принимают оба значения. И т.д., так я проанализировал все признакми, и проверил несколько предполагаемых ответов, из которых оставил на мой взгляд лучший."
   ]
  },
  {
   "cell_type": "markdown",
   "metadata": {},
   "source": [
    " "
   ]
  },
  {
   "cell_type": "code",
   "execution_count": 31,
   "metadata": {
    "scrolled": true
   },
   "outputs": [
    {
     "data": {
      "text/html": [
       "<div>\n",
       "<style scoped>\n",
       "    .dataframe tbody tr th:only-of-type {\n",
       "        vertical-align: middle;\n",
       "    }\n",
       "\n",
       "    .dataframe tbody tr th {\n",
       "        vertical-align: top;\n",
       "    }\n",
       "\n",
       "    .dataframe thead th {\n",
       "        text-align: right;\n",
       "    }\n",
       "</style>\n",
       "<table border=\"1\" class=\"dataframe\">\n",
       "  <thead>\n",
       "    <tr style=\"text-align: right;\">\n",
       "      <th></th>\n",
       "      <th>cnt_id</th>\n",
       "    </tr>\n",
       "  </thead>\n",
       "  <tbody>\n",
       "    <tr>\n",
       "      <th>0</th>\n",
       "      <td>1015</td>\n",
       "    </tr>\n",
       "    <tr>\n",
       "      <th>1</th>\n",
       "      <td>14610</td>\n",
       "    </tr>\n",
       "  </tbody>\n",
       "</table>\n",
       "</div>"
      ],
      "text/plain": [
       "   cnt_id\n",
       "0    1015\n",
       "1   14610"
      ]
     },
     "execution_count": 31,
     "metadata": {},
     "output_type": "execute_result"
    }
   ],
   "source": [
    "sql_command = \"\"\"SELECT COUNT(id) AS cnt_id FROM credit WHERE type IN (2, 7) AND cr1 IN (5, 6, 7, 8, 9, 10, 11, 12, 13)\n",
    "AND cr2 IN (1, 3, 4, 5, 6, 7) AND cr3 IN (5, 6, 10, 23) AND cl2 IN (2, 3, 4, 5, 6, 7, 8, 9) AND cl4 IN (2, 4, 7)\n",
    "AND cl5 IN (1, 2, 4) AND cl6 IN (10, 11, 12, 13, 14, 15, 16)\n",
    "AND cl7 IN (1, 2, 3, 4, 5, 6, 7, 8, 9, 10, 11, 12, 13, 14, 15, 16, 17, 18, 19)\n",
    "UNION\n",
    "SELECT COUNT(id) AS cnt_id FROM credit WHERE type IN (2, 7) AND cr1 IN (5, 6, 7, 8, 9, 10, 11, 12, 13)\n",
    "AND cr2 IN (1, 3, 4, 5, 6, 7) AND cr3 IN (5, 6, 10, 23) AND cl2 IN (2, 3, 4, 5, 6, 7, 8, 9) AND cl4 IN (2, 4, 7)\n",
    "AND cl5 IN (1, 2, 4) AND cl6 IN (10, 11, 12, 13, 14, 15, 16)\n",
    "AND cl7 IN (1, 2, 3, 4, 5, 6, 7, 8, 9, 10, 11, 12, 13, 14, 15, 16, 17, 18, 19) AND flag = 1\"\"\"\n",
    "sql_query(sql_command, \"data_.db\") "
   ]
  },
  {
   "cell_type": "markdown",
   "metadata": {},
   "source": [
    " "
   ]
  },
  {
   "cell_type": "markdown",
   "metadata": {},
   "source": [
    "В итоге мой сегмент состоит из 14610 элементов, это лишь 1/6 всего датасэта, и содержит в себе 1015 \"плохих\" кредитов. Конечно количество таких кредитов можно было бы несложно увеличить, добавив еще некоторые значения, но тогда сильно возрастет общее количество элементов. Я подумал, что такой результат будет \"золотой серединой\"\n",
    "\n",
    "**И собственно мой ответ:**"
   ]
  },
  {
   "cell_type": "markdown",
   "metadata": {},
   "source": [
    "Тип точки продаж in [2, 7] AND Кредит 1 in [5, 6, 7, 8, 10, 11, 12, 13] AND Кредит 2 in [1, 3, 4, 5, 6, 7]\n",
    "\n",
    "AND Кредит 3 in [5, 6, 10, 23] AND Клиент 2 in [2, 3, 4, 5, 6, 7, 8, 9] AND Клиент 4 in [2, 4, 7]\n",
    "\n",
    "AND Клиент 5 in [1, 2, 4] AND Клиент 6 in [10, 11, 12, 13, 14, 15, 16]\n",
    "\n",
    "AND Клиент 7 in [1, 2, 3, 4, 5, 6, 7, 8, 9, 10, 11, 12, 13, 14, 15, 16, 17, 18, 19]"
   ]
  }
 ],
 "metadata": {
  "kernelspec": {
   "display_name": "Python 3",
   "language": "python",
   "name": "python3"
  },
  "language_info": {
   "codemirror_mode": {
    "name": "ipython",
    "version": 3
   },
   "file_extension": ".py",
   "mimetype": "text/x-python",
   "name": "python",
   "nbconvert_exporter": "python",
   "pygments_lexer": "ipython3",
   "version": "3.7.1"
  }
 },
 "nbformat": 4,
 "nbformat_minor": 2
}
